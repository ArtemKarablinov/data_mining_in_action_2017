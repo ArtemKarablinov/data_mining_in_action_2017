{
 "cells": [
  {
   "cell_type": "markdown",
   "metadata": {},
   "source": [
    "# Часть 1\n",
    "\n",
    "Поставить python и все библиотеки"
   ]
  },
  {
   "cell_type": "code",
   "execution_count": 1,
   "metadata": {},
   "outputs": [],
   "source": [
    "from sklearn.ensemble import RandomForestClassifier\n",
    "from sklearn.datasets import load_iris\n",
    "from sklearn.model_selection import cross_val_score\n",
    "\n",
    "import numpy as np"
   ]
  },
  {
   "cell_type": "code",
   "execution_count": 2,
   "metadata": {},
   "outputs": [
    {
     "name": "stdout",
     "output_type": "stream",
     "text": [
      "0.7132\n"
     ]
    }
   ],
   "source": [
    "iris = load_iris()\n",
    "\n",
    "X = iris.data[:, :2]\n",
    "y = iris.target\n",
    "\n",
    "print round(np.mean(cross_val_score(RandomForestClassifier(random_state=42), X, y, cv=3)), 4)"
   ]
  },
  {
   "cell_type": "markdown",
   "metadata": {},
   "source": [
    "#### Вопрос 1. Что выведет этот код?"
   ]
  },
  {
   "cell_type": "markdown",
   "metadata": {},
   "source": [
    "# Часть 2\n"
   ]
  },
  {
   "cell_type": "code",
   "execution_count": 104,
   "metadata": {},
   "outputs": [],
   "source": [
    "iris = load_iris()\n",
    "\n",
    "X = iris.data[:, :2]\n",
    "y = iris.target"
   ]
  },
  {
   "cell_type": "markdown",
   "metadata": {},
   "source": [
    "#### Вопрос 2. Каков минимальный радиус круга, содержащего все точки из $X$? Ответ округлите до 4 знака после запятой."
   ]
  },
  {
   "cell_type": "code",
   "execution_count": 105,
   "metadata": {},
   "outputs": [],
   "source": [
    "from scipy.optimize import minimize"
   ]
  },
  {
   "cell_type": "markdown",
   "metadata": {},
   "source": [
    "Первый способ"
   ]
  },
  {
   "cell_type": "code",
   "execution_count": 106,
   "metadata": {},
   "outputs": [
    {
     "data": {
      "text/plain": [
       "      fun: 3.468291571416955\n",
       " hess_inv: array([[ 0.00852046, -0.00986477],\n",
       "       [-0.00986477,  0.0114212 ]])\n",
       "      jac: array([ 2.39971387,  0.83110574])\n",
       "  message: 'Desired error not necessarily achieved due to precision loss.'\n",
       "     nfev: 456\n",
       "      nit: 3\n",
       "     njev: 111\n",
       "   status: 2\n",
       "  success: False\n",
       "        x: array([ 6.14927676,  3.16497268])"
      ]
     },
     "execution_count": 106,
     "metadata": {},
     "output_type": "execute_result"
    }
   ],
   "source": [
    "minimize(lambda point: ((point - X) ** 2)\n",
    "         .sum(axis=1).max(), np.mean(X, axis=0))"
   ]
  },
  {
   "cell_type": "code",
   "execution_count": 107,
   "metadata": {},
   "outputs": [],
   "source": [
    "min_value = 1000000.\n",
    "for x0 in np.linspace(6., 7., 10):\n",
    "    for x1 in np.linspace(3., 4., 10):\n",
    "        min_value = min(min_value, minimize(lambda point: ((point - X) ** 2).sum(axis=1).max(), np.array([x0, x1])).fun)"
   ]
  },
  {
   "cell_type": "code",
   "execution_count": 108,
   "metadata": {},
   "outputs": [
    {
     "name": "stdout",
     "output_type": "stream",
     "text": [
      "1.8614\n"
     ]
    }
   ],
   "source": [
    "print round(np.sqrt(min_value), 4)"
   ]
  },
  {
   "cell_type": "markdown",
   "metadata": {},
   "source": [
    "Второй способ"
   ]
  },
  {
   "cell_type": "code",
   "execution_count": 109,
   "metadata": {},
   "outputs": [
    {
     "data": {
      "text/plain": [
       " final_simplex: (array([[ 6.15520434,  3.15154545],\n",
       "       [ 6.15517458,  3.15160564],\n",
       "       [ 6.15519425,  3.15154353]]), array([ 3.46483107,  3.46483507,  3.46484291]))\n",
       "           fun: 3.4648310736449393\n",
       "       message: 'Optimization terminated successfully.'\n",
       "          nfev: 68\n",
       "           nit: 36\n",
       "        status: 0\n",
       "       success: True\n",
       "             x: array([ 6.15520434,  3.15154545])"
      ]
     },
     "execution_count": 109,
     "metadata": {},
     "output_type": "execute_result"
    }
   ],
   "source": [
    "minimize(lambda point: ((point - X) ** 2)\n",
    "         .sum(axis=1).max(), np.mean(X, axis=0), method='Nelder-Mead')"
   ]
  },
  {
   "cell_type": "code",
   "execution_count": 110,
   "metadata": {},
   "outputs": [
    {
     "data": {
      "text/plain": [
       "1.8614"
      ]
     },
     "execution_count": 110,
     "metadata": {},
     "output_type": "execute_result"
    }
   ],
   "source": [
    "min_value = minimize(lambda point: ((point - X) ** 2).sum(axis=1).max(), np.mean(X, axis=0), method='Nelder-Mead').fun\n",
    "round(np.sqrt(min_value), 4)"
   ]
  },
  {
   "cell_type": "markdown",
   "metadata": {},
   "source": [
    "https://ru.wikipedia.org/wiki/Пауль_(осьминог)\n",
    "\n",
    "Этот осьминог предсказывал результаты футбольных матчей на  ЧЕ-2008 и ЧМ-2010. Нужно проанализировать его предсказания, считая, что футбольный матч обязательно заканчивается победой одной из команд, а осьминог возможно выбирал равновероятно наугад."
   ]
  },
  {
   "cell_type": "markdown",
   "metadata": {},
   "source": [
    "#### Вопрос 3. Какова вероятность получить именно те предсказания, что дал осьминог, выбирая наугад? Ответ округлите до 5 знака после запятой."
   ]
  },
  {
   "cell_type": "code",
   "execution_count": 7,
   "metadata": {},
   "outputs": [
    {
     "name": "stdout",
     "output_type": "stream",
     "text": [
      "0.00006\n"
     ]
    }
   ],
   "source": [
    "print '{:0.5f}'.format(1. / 2 ** 14)"
   ]
  },
  {
   "cell_type": "markdown",
   "metadata": {},
   "source": [
    "#### Вопрос 4. Какова вероятность ошибиться не меньшее число раз, чем осьминог Пауль, выбирая наугад? Ответ округлите до 5 знака после запятой."
   ]
  },
  {
   "cell_type": "code",
   "execution_count": 8,
   "metadata": {},
   "outputs": [
    {
     "name": "stdout",
     "output_type": "stream",
     "text": [
      "0.00647\n"
     ]
    }
   ],
   "source": [
    "print '{:0.5f}'.format((1. + 14. + 14 * 13 / 2) / 2 ** 14)"
   ]
  },
  {
   "cell_type": "markdown",
   "metadata": {},
   "source": [
    "# Часть 3\n"
   ]
  },
  {
   "cell_type": "markdown",
   "metadata": {},
   "source": [
    "#### Вопрос 5. У вас есть набор зависимости $y$ от одной переменной $x$, причём вы знаете, что эта зависимость линейная ($y=ax + b$). Вам нужно восстановить эту зависимость, решив оптимизационную задачу $\\min_{a, b} \\sum_{i=1}^n (ax_i + b - y_i)^2$.\n",
    "\n",
    "#### Проблема в том, что выборка очень большая, поэтому её нельзя полностью загрузить в память. Ответом на вопрос является строка в питоновском формате '{}_{}'.format(round(a, 5), round(b, 5)), например, '0.00001_0.00002'."
   ]
  },
  {
   "cell_type": "code",
   "execution_count": 9,
   "metadata": {},
   "outputs": [],
   "source": [
    "def generator():\n",
    "    rand_gen = np.random.RandomState(42)\n",
    "    for i in xrange(100000):\n",
    "        arr_of_x = 10 * rand_gen.uniform(size=10000)\n",
    "        arr_of_noise = 40 * rand_gen.normal(size=10000)\n",
    "        for x, noise in zip(arr_of_x, arr_of_noise):\n",
    "            yield x, 3.14 * x + 8.3 + noise"
   ]
  },
  {
   "cell_type": "code",
   "execution_count": 10,
   "metadata": {},
   "outputs": [],
   "source": [
    "def solver(seq):\n",
    "    count = 0\n",
    "    sum_x = 0.\n",
    "    sum_y = 0.\n",
    "    sum_sq_x = 0.\n",
    "    sum_xy = 0.\n",
    "    for x, y in seq:\n",
    "        count += 1\n",
    "        sum_x += x\n",
    "        sum_y += y\n",
    "        sum_sq_x += x ** 2\n",
    "        sum_xy += x * y\n",
    "        \n",
    "    a = (count * sum_xy - sum_x * sum_y) / (count * sum_sq_x - sum_x ** 2)\n",
    "    b = (sum_y - a * sum_x) / count\n",
    "    return a, b\n",
    "        "
   ]
  },
  {
   "cell_type": "code",
   "execution_count": 11,
   "metadata": {},
   "outputs": [
    {
     "name": "stdout",
     "output_type": "stream",
     "text": [
      "3.13957_8.30331\n",
      "CPU times: user 22min 18s, sys: 15.5 s, total: 22min 34s\n",
      "Wall time: 22min 36s\n"
     ]
    }
   ],
   "source": [
    "%%time\n",
    "a, b = solver(generator())\n",
    "print '{}_{}'.format(round(a, 5), round(b, 5))"
   ]
  },
  {
   "cell_type": "markdown",
   "metadata": {},
   "source": [
    "#### Вам дается две выборки с пользовательскими сессиями - id-шниками просмотренных и id-шниками купленных товаров. Одна выборка будет использоваться для обучения (оценки популярностей товаров), а другая - для теста.\n",
    "\n",
    "#### В файлах записаны сессии по одной в каждой строке. Формат сессии: id просмотренных товаров через \",\" затем идёт \";\" после чего следуют id купленных товаров (если такие имеются), разделённые запятой. Например, \"1,2,3,4;\" или \"1,2,3,4;5,6\". Гарантируется, что среди id купленных товаров все различные.\n",
    "\n",
    "#### Вопросы 6-7. Будем считать, что цена товара равна его id % 100 + 1. Найдите разницу денежного recall для сортировки по вероятности покупки (методы уже реализованы) без умножения на цену и с умножением на цену для train и для test. Ответ округлите до 5 знака после запятой.\n",
    "\n",
    "#### У вас есть код для подсчёта обычного recall, вам нужно переписать его, взвесив объекты их ценой. Знаменатель будет равен сумме цен купленных товаров.\n",
    "\n"
   ]
  },
  {
   "cell_type": "code",
   "execution_count": 12,
   "metadata": {},
   "outputs": [],
   "source": [
    "from collections import Counter\n",
    "from collections import OrderedDict\n",
    "import numpy as np\n",
    "import pandas\n",
    "import heapq"
   ]
  },
  {
   "cell_type": "code",
   "execution_count": 13,
   "metadata": {},
   "outputs": [],
   "source": [
    "visit_popularity = Counter()\n",
    "purchase_popularity = Counter()\n",
    "\n",
    "with open('train.txt', 'r') as f:\n",
    "    for line in f.xreadlines():\n",
    "        visits, purchases = line.strip().split(';')\n",
    "        for visit in visits.split(','):\n",
    "            visit_popularity[visit] += 1\n",
    "        if purchases != '':\n",
    "            for purchase in purchases.split(','):\n",
    "                purchase_popularity[purchase] += 1\n",
    "\n",
    "                \n",
    "def get_item_price(item_id):\n",
    "    return int(item_id) % 100 + 1"
   ]
  },
  {
   "cell_type": "code",
   "execution_count": 14,
   "metadata": {},
   "outputs": [],
   "source": [
    "def recommend_by_purchase(items, max_count):\n",
    "    return heapq.nlargest(max_count, OrderedDict.fromkeys(items), key=lambda x: purchase_popularity.get(x, 0))\n",
    "\n",
    "def recommend_by_purchase_price_aware(items, max_count):\n",
    "    return heapq.nlargest(max_count, OrderedDict.fromkeys(items), key=lambda x: get_item_price(x) * purchase_popularity.get(x, 0))"
   ]
  },
  {
   "cell_type": "code",
   "execution_count": 15,
   "metadata": {},
   "outputs": [],
   "source": [
    "def calculate_metrics(recommend, max_count, sessions_file):\n",
    "    with open(sessions_file, 'r') as f:\n",
    "        avg_recall = np.zeros(max_count)\n",
    "        sessions_count = 0\n",
    "        for line in f.xreadlines():\n",
    "            visits, purchases = line.strip().split(';')\n",
    "            if purchases != '':\n",
    "                visits = visits.split(',')\n",
    "                purchases = set(purchases.split(','))\n",
    "                purchases_prices = np.array([get_item_price(x) for x in purchases])\n",
    "\n",
    "                rec = recommend(visits, max_count)\n",
    "                rec_hits = np.array([get_item_price(x) * (x in purchases) for x in rec])\n",
    "                hits = np.zeros(max_count)\n",
    "                hits[:len(rec_hits)] = rec_hits\n",
    "                \n",
    "                sessions_count += 1\n",
    "                avg_recall +=  np.cumsum(hits) / np.sum(purchases_prices)\n",
    "\n",
    "    return pandas.DataFrame({\n",
    "            'k': np.arange(max_count) + 1,\n",
    "            'avg_recall@k': avg_recall / sessions_count,\n",
    "    }).set_index('k')"
   ]
  },
  {
   "cell_type": "code",
   "execution_count": 16,
   "metadata": {},
   "outputs": [
    {
     "name": "stdout",
     "output_type": "stream",
     "text": [
      "0.00973\n"
     ]
    }
   ],
   "source": [
    "print round((\n",
    "    calculate_metrics(recommend_by_purchase_price_aware, 3, 'train.txt') \n",
    "    - calculate_metrics(recommend_by_purchase, 3, 'train.txt')\n",
    ")['avg_recall@k'][3], 5)"
   ]
  },
  {
   "cell_type": "code",
   "execution_count": 17,
   "metadata": {},
   "outputs": [
    {
     "name": "stdout",
     "output_type": "stream",
     "text": [
      "-0.00273\n"
     ]
    }
   ],
   "source": [
    "print round((\n",
    "    calculate_metrics(recommend_by_purchase_price_aware, 3, 'test.txt') \n",
    "    - calculate_metrics(recommend_by_purchase, 3, 'test.txt')\n",
    ")['avg_recall@k'][3], 5)"
   ]
  },
  {
   "cell_type": "code",
   "execution_count": null,
   "metadata": {},
   "outputs": [],
   "source": []
  },
  {
   "cell_type": "code",
   "execution_count": null,
   "metadata": {},
   "outputs": [],
   "source": []
  }
 ],
 "metadata": {
  "kernelspec": {
   "display_name": "Python 2",
   "language": "python",
   "name": "python2"
  },
  "language_info": {
   "codemirror_mode": {
    "name": "ipython",
    "version": 2
   },
   "file_extension": ".py",
   "mimetype": "text/x-python",
   "name": "python",
   "nbconvert_exporter": "python",
   "pygments_lexer": "ipython2",
   "version": "2.7.6"
  }
 },
 "nbformat": 4,
 "nbformat_minor": 2
}
